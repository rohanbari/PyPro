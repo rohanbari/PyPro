{
 "cells": [
  {
   "attachments": {},
   "cell_type": "markdown",
   "metadata": {},
   "source": [
    "# NumPy\n",
    "\n",
    "NumPy is the core Python package for numerical computing. The main features of\n",
    "NumPy are:\n",
    "\n",
    "-   $n$-dimensional array object `ndarray`\n",
    "-   Vector operations and functions across arrays for faster computations\n",
    "\n",
    "To get started with NumPy, we import it:\n",
    "\n",
    "```py\n",
    "import numpy as np\n",
    "```\n",
    "\n",
    "### NumPy Arrays\n",
    "\n",
    "The fundamental object provided by the NumPy package is the ndarray. We can\n",
    "think of a 1D (1-dimensional) `ndarray` as a list, a 2D `ndarray` as a matrix, a\n",
    "3D `ndarray` as a 3-tensor (or, a \"cube\" of numbers), and so on.\n",
    "\n",
    "### Learning\n"
   ]
  },
  {
   "cell_type": "code",
   "execution_count": 5,
   "metadata": {},
   "outputs": [
    {
     "name": "stdout",
     "output_type": "stream",
     "text": [
      "[1 2 3]\n",
      "<class 'numpy.ndarray'>\n",
      "<class 'numpy.ndarray'>\n"
     ]
    }
   ],
   "source": [
    "import numpy as np\n",
    "\n",
    "# Creates a 1-dimensional array\n",
    "arr = np.array([1, 2, 3])\n",
    "print(arr)\n",
    "# Type of a numpy-based array is not a regular arra\n",
    "print(type(arr))\n",
    "\n",
    "arr_2x2 = np.array([[1, 2, 3], [4, 5, 6]])\n",
    "print(type(arr_2x2))\n"
   ]
  }
 ],
 "metadata": {
  "kernelspec": {
   "display_name": "Python 3",
   "language": "python",
   "name": "python3"
  },
  "language_info": {
   "codemirror_mode": {
    "name": "ipython",
    "version": 3
   },
   "file_extension": ".py",
   "mimetype": "text/x-python",
   "name": "python",
   "nbconvert_exporter": "python",
   "pygments_lexer": "ipython3",
   "version": "3.10.6"
  },
  "orig_nbformat": 4,
  "vscode": {
   "interpreter": {
    "hash": "916dbcbb3f70747c44a77c7bcd40155683ae19c65e1c03b4aa3499c5328201f1"
   }
  }
 },
 "nbformat": 4,
 "nbformat_minor": 2
}
