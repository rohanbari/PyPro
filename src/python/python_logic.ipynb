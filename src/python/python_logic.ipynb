{
 "cells": [
  {
   "attachments": {},
   "cell_type": "markdown",
   "metadata": {},
   "source": [
    "# Logics in Python\n",
    "\n",
    "In my words, a logic is a systematic approach to determine a valid output.\n",
    "A condition is either true or false, but not both simultaneously. This is where\n",
    "Boolean type comes into play."
   ]
  },
  {
   "cell_type": "code",
   "execution_count": null,
   "metadata": {},
   "outputs": [],
   "source": [
    "did_I_bath = False\n",
    "am_I_hungry = True\n",
    "print(did_I_bath, am_I_hungry)\n",
    "\n",
    "if (did_I_bath) and (am_I_hungry):\n",
    "    print(\"I did bathe and I'm hungry\")\n",
    "else:\n",
    "    print(\"I did not bath OR I am not hungry\")\n"
   ]
  },
  {
   "cell_type": "code",
   "execution_count": null,
   "metadata": {},
   "outputs": [],
   "source": [
    "# Real or imaginary?\n",
    "\n",
    "def discriminant(a, b, c):\n",
    "    \"\"\"Checks if the roots of the equation are real or complex.\n",
    "\n",
    "    Args:\n",
    "        a (int/float): First value\n",
    "        b (int/float): Second value\n",
    "        c (int/float): Third value\n",
    "    \"\"\"\n",
    "    disc = b**2 - 4*a*c\n",
    "\n",
    "    if (disc > 0):\n",
    "        return \"real and unequal\"\n",
    "    elif (disc < 0):\n",
    "        return \"imaginary\"\n",
    "    else:\n",
    "        return \"real and equal\"\n",
    "\n",
    "\n",
    "a = 10\n",
    "b = 20\n",
    "c = 30\n",
    "print(discriminant(a, b, c))\n"
   ]
  },
  {
   "cell_type": "code",
   "execution_count": null,
   "metadata": {},
   "outputs": [],
   "source": [
    "mat = [[2,-1], [5,7]]\n",
    "det = mat[0][0] * mat[1][1] - mat[0][1] * mat[1][0]\n",
    "\n",
    "if (det == 0):\n",
    "    print('Not invertible')\n",
    "else:\n",
    "    print('Invertible')"
   ]
  },
  {
   "attachments": {},
   "cell_type": "markdown",
   "metadata": {},
   "source": [
    "### Exercises\n",
    "\n",
    "We know that the discriminant of a cubical polynomial:\n",
    "\n",
    "$$ p(x) = ax^3 + bx^2 + cx + d $$\n",
    "\n",
    "is given by\n",
    "\n",
    "$$ \\Delta = b^2c^2 - 4ac^3 - 4b^3d -27a^2d^2 + 18abcd $$\n",
    "\n",
    "It gives us information about the roots:\n",
    "\n",
    "  * If $ \\Delta > 0 $, then $p(x)$ has 3 distinct real roots\n",
    "  * If $ \\Delta < 0 $, then $p(x)$ has 2 distinct complex and a real root\n",
    "  * If $ \\Delta = 0 $, then $p(x)$ has at least 2 equal (real or complex) roots"
   ]
  },
  {
   "cell_type": "code",
   "execution_count": null,
   "metadata": {},
   "outputs": [],
   "source": [
    "# Exercise 1. The discriminant of a cubic polynomial\n",
    "\n",
    "data = [1, 0, -1, 1]\n",
    "\n",
    "\n",
    "def discriminant(list):\n",
    "    a = list[0]\n",
    "    b = list[1]\n",
    "    c = list[2]\n",
    "    d = list[3]\n",
    "\n",
    "    expr = b**2 * c**2 - 4*a*c**2 - 4*b**3*d - 27*a**2*d**2 + 18*a*b*c*d\n",
    "\n",
    "    if expr > 0:\n",
    "        return \"3 distinct real roots\"\n",
    "    elif expr < 0:\n",
    "        return \"2 distinct complex and a real roots\"\n",
    "    else:\n",
    "        return \"at least 2 equal (real/complex) roots\"\n",
    "\n",
    "print(discriminant(data))"
   ]
  },
  {
   "attachments": {},
   "cell_type": "markdown",
   "metadata": {},
   "source": [
    "Finding inverse of a matrix."
   ]
  },
  {
   "cell_type": "code",
   "execution_count": null,
   "metadata": {},
   "outputs": [],
   "source": [
    "a = 1\n",
    "b = 2\n",
    "c = 3\n",
    "d = 4\n",
    "matrix = [[a, b], [c, d]]\n",
    "\n",
    "\n",
    "def inverse(data=[[1, 0], [0, 1]]):\n",
    "    a = data[0][0]\n",
    "    b = data[0][1]\n",
    "    c = data[1][0]\n",
    "    d = data[1][1]\n",
    "\n",
    "    det = a*d - b*c\n",
    "\n",
    "    if det == 0:\n",
    "        return []\n",
    "\n",
    "    return [[d, -b], [a, -c]]\n",
    "\n",
    "\n",
    "print(inverse(matrix))"
   ]
  }
 ],
 "metadata": {
  "kernelspec": {
   "display_name": "Python 3",
   "language": "python",
   "name": "python3"
  },
  "language_info": {
   "codemirror_mode": {
    "name": "ipython",
    "version": 3
   },
   "file_extension": ".py",
   "mimetype": "text/x-python",
   "name": "python",
   "nbconvert_exporter": "python",
   "pygments_lexer": "ipython3",
   "version": "3.10.6"
  },
  "orig_nbformat": 4
 },
 "nbformat": 4,
 "nbformat_minor": 2
}
