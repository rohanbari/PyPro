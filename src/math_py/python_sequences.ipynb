{
 "cells": [
  {
   "attachments": {},
   "cell_type": "markdown",
   "metadata": {},
   "source": [
    "# Sequences\n",
    "\n",
    "If there is a common difference/factor between each consecutive term, then it is\n",
    "a mathematical sequence. There are mainly three types of sequences in Python:\n",
    "\n",
    "  * `list`: mutable, same type only\n",
    "  * `tuple`: immutable, different types\n",
    "  * `range`: sequence of integers"
   ]
  },
  {
   "cell_type": "code",
   "execution_count": null,
   "metadata": {},
   "outputs": [],
   "source": [
    "# A list of squares of numbers from 1 to 10\n",
    "\n",
    "squares_list = [1, 4, 9, 16, 25, 36, 49, 64, 81, 100]\n",
    "print(squares_list)\n",
    "\n",
    "# Sub-lists\n",
    "coords = [[0, 0], [3, 4], [1, 9], [4, 4]]\n",
    "print(coords)\n",
    "\n",
    "primes = [2, 3, 5, 7, 11, 13, 17, 19, 23, 29]\n",
    "# Forward\n",
    "print(primes[3], primes[5], primes[9])\n",
    "# Reverse\n",
    "print(primes[-3], primes[-5], primes[-9])\n",
    "\n",
    "pairs = [[0, 1], [2, 3], [4, 5], [6, 7]]\n",
    "print(pairs[1][1])  # 2nd element, 2nd sub-element\n"
   ]
  },
  {
   "cell_type": "code",
   "execution_count": null,
   "metadata": {},
   "outputs": [],
   "source": [
    "# Python Slices\n",
    "\n",
    "fibonacci = [1, 1, 2, 3, 5, 8, 13, 21, 34, 55, 89, 144]\n",
    "\n",
    "print(fibonacci[1:4])  # From 1st index to 5th index\n",
    "print(fibonacci[3:])   # From 4th index to last\n",
    "print(fibonacci[:-5])  # From the last 5nd index to first\n",
    "\n",
    "# Ranges\n",
    "\n",
    "test_range = range(0, 10)\n",
    "print(list(test_range))  # Prints from 0 to 9\n"
   ]
  },
  {
   "cell_type": "code",
   "execution_count": null,
   "metadata": {},
   "outputs": [],
   "source": [
    "# Unpacking sequences\n",
    "\n",
    "date = (25, 3, 2023)\n",
    "\n",
    "day, month, year = date\n",
    "print(day, month, year)"
   ]
  },
  {
   "attachments": {},
   "cell_type": "markdown",
   "metadata": {},
   "source": [
    "### List comprehensions"
   ]
  },
  {
   "cell_type": "code",
   "execution_count": null,
   "metadata": {},
   "outputs": [],
   "source": [
    "# container = [<expr> for <var> in <range, list, tuple>]\n",
    "\n",
    "seq = [n**2 for n in range(1, 11)]\n",
    "print(seq)\n",
    "\n",
    "seq = [n for n in range(1, 11)]\n",
    "print(seq)\n",
    "\n",
    "seq = [n**2 - 1 for n in range(1, 21)]\n",
    "print(seq)\n",
    "\n",
    "seq = [n**3 for n in range(1, 11)]\n",
    "print(sum(seq))\n",
    "\n",
    "zeta_4 = [1/n**4 for n in range(1, 1001)]\n",
    "print(sum(zeta_4))\n"
   ]
  },
  {
   "attachments": {},
   "cell_type": "markdown",
   "metadata": {},
   "source": [
    "### Exercises"
   ]
  },
  {
   "cell_type": "code",
   "execution_count": null,
   "metadata": {},
   "outputs": [],
   "source": [
    "# Maclaurin series of arctan(x) at x = 1\n",
    "\n",
    "macl_at1 = [(-1)**n / (2*n + 1) for n in range(0, 5001)]\n",
    "print(sum(macl_at1))\n"
   ]
  },
  {
   "cell_type": "code",
   "execution_count": null,
   "metadata": {},
   "outputs": [],
   "source": [
    "# Partial sum of alternating harmonic series\n",
    "\n",
    "series = [(-1)**(n + 1) / n for n in range(1, 2001)]\n",
    "print(sum(series))"
   ]
  },
  {
   "cell_type": "code",
   "execution_count": null,
   "metadata": {},
   "outputs": [],
   "source": [
    "# List comprehension exercise\n",
    "\n",
    "my_list = [[n, n**2] for n in range(0, 8)]\n",
    "print(my_list)\n"
   ]
  }
 ],
 "metadata": {
  "kernelspec": {
   "display_name": "Python 3",
   "language": "python",
   "name": "python3"
  },
  "language_info": {
   "codemirror_mode": {
    "name": "ipython",
    "version": 3
   },
   "file_extension": ".py",
   "mimetype": "text/x-python",
   "name": "python",
   "nbconvert_exporter": "python",
   "pygments_lexer": "ipython3",
   "version": "3.10.6"
  },
  "orig_nbformat": 4
 },
 "nbformat": 4,
 "nbformat_minor": 2
}
