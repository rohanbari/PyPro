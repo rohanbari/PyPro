{
 "cells": [
  {
   "attachments": {},
   "cell_type": "markdown",
   "metadata": {},
   "source": [
    "## Mathematical Python\n",
    "\n",
    "Learning about numbers, variables, sequences, functions, and else."
   ]
  },
  {
   "cell_type": "markdown",
   "metadata": {},
   "source": [
    "### Numbers-based sample programs"
   ]
  },
  {
   "cell_type": "code",
   "execution_count": null,
   "metadata": {},
   "outputs": [],
   "source": [
    "# Evaluation of constant quantities\n",
    "\n",
    "print(10 + 20)\n",
    "print(15 - 40)\n",
    "print(13 * 22)\n",
    "print(14 / 7)\n",
    "\n",
    "print(2**8)\n",
    "print(type(420))\n",
    "\n",
    "print(2**(1/2))  # Square root of 2\n",
    "print(1.8343e-05)\n",
    "\n",
    "com1 = 4 + 3j\n",
    "com2 = 7 + 2j\n",
    "print(com1 + com2)\n",
    "\n",
    "# Ramanujan's PI formula\n",
    "pi = 99**2 / (2 * 2**0.5) / (1103 + 4*3*2 * (26390 + 1103) / 396 **\n",
    "                             4 + 8*7*6*5*4*3*2 / 2**4 * (26390*2 + 1103) / 396**8)\n",
    "print(pi)\n"
   ]
  },
  {
   "attachments": {},
   "cell_type": "markdown",
   "metadata": {},
   "source": [
    "### Exercises on Numbers"
   ]
  },
  {
   "attachments": {},
   "cell_type": "markdown",
   "metadata": {},
   "source": [
    "* **Taylor Series** of $\\cos{x}$ is:\n",
    "\n",
    "$$ \\cos{x} = \\sum_0^\\infty {(-1)^k \\cdot \\frac{x^{2k}}{(2k)!}} $$"
   ]
  },
  {
   "cell_type": "code",
   "execution_count": null,
   "metadata": {},
   "outputs": [],
   "source": [
    "# Taylor series expansion of degree 6 and value 2\n",
    "import math\n",
    "\n",
    "degree = 6\n",
    "at = 2\n",
    "result = 0\n",
    "\n",
    "for i in range(0, degree + 1, 2):\n",
    "    term = (-1)**(i / 2) * (at**i)/math.factorial(i)\n",
    "    result += term\n",
    "\n",
    "print(result)\n"
   ]
  },
  {
   "attachments": {},
   "cell_type": "markdown",
   "metadata": {},
   "source": [
    "* **Riemann Zeta Function** is represented as:\n",
    "\n",
    "$$\\zeta{s} = \\sum_{n=1}^{\\infty} {\\frac{1}{n^s}}$$\n",
    "\n",
    "The $\\zeta{s}$ is related to the prime numbers by Euler's product:\n",
    "\n",
    "$$ \\sum_{n=1}^\\infty \\frac{1}{n^s} = \\prod_p \\left(\\frac{1}{1 - p^{-s}}\\right) \\{p : p \\text{ is a prime number}\\} $$"
   ]
  },
  {
   "cell_type": "code",
   "execution_count": 3,
   "metadata": {},
   "outputs": [
    {
     "name": "stdout",
     "output_type": "stream",
     "text": [
      "1.4636111111111112\n"
     ]
    }
   ],
   "source": [
    "# Riemann zeta function and Euler's product formula\n",
    "\n",
    "### Computing 5th partial SUM for s = 2\n",
    "\n",
    "n = 5\n",
    "s = 2\n",
    "res = 0\n",
    "\n",
    "for i in range(1, n + 1):\n",
    "    term = 1 / i**s\n",
    "    res += term\n",
    "\n",
    "print(res)\n"
   ]
  },
  {
   "attachments": {},
   "cell_type": "markdown",
   "metadata": {},
   "source": [
    "* **Continued fraction** and approximate $\\sqrt{2}$ is:\n",
    "\n",
    "$$ \\sqrt{2} = 1 + \\frac{1}{2 + \\frac{1}{2 + \\frac{1}{2 + \\ddots}}} $$"
   ]
  },
  {
   "cell_type": "code",
   "execution_count": 6,
   "metadata": {},
   "outputs": [
    {
     "name": "stdout",
     "output_type": "stream",
     "text": [
      "1.4137931034482758\n"
     ]
    }
   ],
   "source": [
    "# Computing the approx value of sqrt(2)\n",
    "\n",
    "sqrt_2 = 1 + 1/(2 + 1/(2 + 1/(2 + 1/2)))\n",
    "print(sqrt_2)"
   ]
  },
  {
   "attachments": {},
   "cell_type": "markdown",
   "metadata": {},
   "source": [
    "* **Determination of type of the values:**"
   ]
  },
  {
   "cell_type": "code",
   "execution_count": 9,
   "metadata": {},
   "outputs": [
    {
     "name": "stdout",
     "output_type": "stream",
     "text": [
      "<class 'float'>\n",
      "<class 'float'>\n",
      "<class 'float'>\n",
      "23730.46875\n",
      "310723602.85798514\n",
      "52521875\n"
     ]
    }
   ],
   "source": [
    "x = 10    # integer\n",
    "y = 10.5  # float\n",
    "\n",
    "print(type(x / y))\n",
    "print(type(x * y))\n",
    "print(type(x + y))\n",
    "\n",
    "# float, integer\n",
    "x = 7.5\n",
    "y = 5\n",
    "print(x**y) # float\n",
    "\n",
    "# integer, float\n",
    "x = 35\n",
    "y = 5.5\n",
    "print(x**y) # float\n",
    "\n",
    "# int, int\n",
    "x = 35\n",
    "y = 5\n",
    "print(x**y) # int"
   ]
  }
 ],
 "metadata": {
  "kernelspec": {
   "display_name": "Python 3",
   "language": "python",
   "name": "python3"
  },
  "language_info": {
   "codemirror_mode": {
    "name": "ipython",
    "version": 3
   },
   "file_extension": ".py",
   "mimetype": "text/x-python",
   "name": "python",
   "nbconvert_exporter": "python",
   "pygments_lexer": "ipython3",
   "version": "3.10.6"
  },
  "orig_nbformat": 4
 },
 "nbformat": 4,
 "nbformat_minor": 2
}
