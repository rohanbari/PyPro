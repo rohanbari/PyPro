{
 "cells": [
  {
   "attachments": {},
   "cell_type": "markdown",
   "metadata": {},
   "source": [
    "# Riemann Sums\n",
    "\n",
    "In simple terms, a definite integral is the sum of rectangles of infinitesimally\n",
    "small width for preciseness in measurement. The number of rectangles is assumed\n",
    "to be infinity.\n",
    "\n",
    "### Definition\n",
    "\n",
    "The Riemann sum of a function $f(x)$ over a partition\n",
    "\n",
    "$$ a = x*1 < x_2 < \\cdots < x*{n - 1} < x_n = b $$\n",
    "\n",
    "is a sum of the form\n",
    "\n",
    "$$ S*i^N = \\sum*{i = 1}^N f(x*i^\\*)(x_i - x*{i - 1}) $$\n",
    "\n",
    "Thus, we can say\n",
    "\n",
    "$$ \\int*a^b f(x) dx = S_i^\\infty = \\sum*{i = 1}^\\infty f(x*i^\\*)(x_i - x*{i - 1}) $$\n"
   ]
  },
  {
   "cell_type": "code",
   "execution_count": null,
   "metadata": {},
   "outputs": [],
   "source": [
    "# Riemann sum program\n"
   ]
  }
 ],
 "metadata": {
  "language_info": {
   "name": "python"
  },
  "orig_nbformat": 4
 },
 "nbformat": 4,
 "nbformat_minor": 2
}
