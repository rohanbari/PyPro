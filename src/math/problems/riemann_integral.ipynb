{
 "cells": [
  {
   "attachments": {},
   "cell_type": "markdown",
   "metadata": {},
   "source": [
    "# Implementation of Riemann Integral\n",
    "\n",
    "The Riemann sum as integral is represented as:\n",
    "\n",
    "$$ \\int_a^b f(x) dx = \\lim_{n \\to \\infty} {\\sum_{k = 1}^{n} {f(x_k) \\Delta x}}$$\n",
    "\n",
    "where $\\Delta x = \\frac{b - a}{n}$ and $x_k = a + k\\Delta x$."
   ]
  },
  {
   "cell_type": "code",
   "execution_count": 4,
   "metadata": {},
   "outputs": [
    {
     "name": "stdout",
     "output_type": "stream",
     "text": [
      "0.33333833334999746\n"
     ]
    }
   ],
   "source": [
    "def riemann_sum(n, lower, upper, N):\n",
    "    \"\"\"Evaluate the Riemann sum of x^n function from lower to upper limit.\n",
    "\n",
    "    Args:\n",
    "        n (int): Power of the term\n",
    "        lower (int): Lower limit\n",
    "        upper (int): Upper limit\n",
    "        N (int): Number of rectangles\n",
    "    \"\"\"\n",
    "\n",
    "    # The more the value of N (usually infty.) the more accurate the result is.\n",
    "    delta_x = (upper - lower) / N\n",
    "    x = [lower + k * delta_x for k in range(0, N + 1)]\n",
    "    terms = [(x[k]**n * delta_x) for k in range(1, N + 1)]\n",
    "\n",
    "    constant = sum(terms)\n",
    "    return constant\n",
    "\n",
    "\n",
    "print(riemann_sum(2, 0, 1, 100000))\n"
   ]
  }
 ],
 "metadata": {
  "kernelspec": {
   "display_name": "Python 3",
   "language": "python",
   "name": "python3"
  },
  "language_info": {
   "codemirror_mode": {
    "name": "ipython",
    "version": 3
   },
   "file_extension": ".py",
   "mimetype": "text/x-python",
   "name": "python",
   "nbconvert_exporter": "python",
   "pygments_lexer": "ipython3",
   "version": "3.10.6"
  },
  "orig_nbformat": 4
 },
 "nbformat": 4,
 "nbformat_minor": 2
}
