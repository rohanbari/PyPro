{
 "cells": [
  {
   "attachments": {},
   "cell_type": "markdown",
   "metadata": {},
   "source": [
    "# Collatz Conjecture\n",
    "\n",
    "Let $a$ be a positive integer and consider the recursive sequence where\n",
    "$x_0 = a$ and\n",
    "\n",
    "$$\n",
    "x_{n+1} = \\begin{cases} \\frac{x_n}{2}, \\text{ if } x_n \\text{ is even} \\\\ 3x_n\n",
    "+ 1, \\text{ if } x_n \\text{ is odd} \\end{cases}\n",
    "$$\n"
   ]
  },
  {
   "cell_type": "code",
   "execution_count": 1,
   "metadata": {},
   "outputs": [
    {
     "name": "stdout",
     "output_type": "stream",
     "text": [
      "[25, 76, 38, 19, 58, 29, 88, 44, 22, 11, 34, 17, 52, 26, 13, 40, 20, 10, 5, 16, 8, 4, 2, 1]\n"
     ]
    }
   ],
   "source": [
    "def collatz(a):\n",
    "    \"Compute the Collatz sequence starting at a and ending at 1.\"\n",
    "\n",
    "    seq = [a]\n",
    "    # Computing the values until it reaches 1\n",
    "    while seq[-1] > 1:\n",
    "        # Identifying odd/even and appending accordingly\n",
    "        if seq[-1] % 2 == 0:\n",
    "            seq.append(seq[-1] // 2)   # expr: x_n / 2\n",
    "        else:\n",
    "            seq.append(3*seq[-1] + 1)  # expr: 3x_n + 1\n",
    "\n",
    "    return seq\n",
    "\n",
    "\n",
    "print(collatz(25))\n"
   ]
  }
 ],
 "metadata": {
  "kernelspec": {
   "display_name": "Python 3",
   "language": "python",
   "name": "python3"
  },
  "language_info": {
   "codemirror_mode": {
    "name": "ipython",
    "version": 3
   },
   "file_extension": ".py",
   "mimetype": "text/x-python",
   "name": "python",
   "nbconvert_exporter": "python",
   "pygments_lexer": "ipython3",
   "version": "3.10.6"
  },
  "orig_nbformat": 4,
  "vscode": {
   "interpreter": {
    "hash": "916dbcbb3f70747c44a77c7bcd40155683ae19c65e1c03b4aa3499c5328201f1"
   }
  }
 },
 "nbformat": 4,
 "nbformat_minor": 2
}
