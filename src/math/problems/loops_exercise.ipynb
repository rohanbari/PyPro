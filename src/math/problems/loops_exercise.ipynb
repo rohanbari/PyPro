{
 "cells": [
  {
   "attachments": {},
   "cell_type": "markdown",
   "metadata": {},
   "source": [
    "# Exercises on Python Loops\n",
    "\n",
    "### 1: Fermat's Theorem on Sum of Two Squares\n",
    "\n",
    "It states that every prime number $p$ in the form $ 4k + 1 $ can be expressed as\n",
    "the sum of two squares.\n",
    "Find the smallest prime greater than $2019$ of the form $ 4k + 1 $ and write it\n",
    "as a sum of squares.\n"
   ]
  },
  {
   "cell_type": "code",
   "execution_count": 9,
   "metadata": {},
   "outputs": [
    {
     "name": "stdout",
     "output_type": "stream",
     "text": [
      "[(2, 45)]\n"
     ]
    }
   ],
   "source": [
    "def is_square(n):\n",
    "    \"\"\"Validates whether the number is a square or not.\n",
    "\n",
    "    Args:\n",
    "        n (int): The number\n",
    "\n",
    "    Returns:\n",
    "        bool: Is/is-not square\n",
    "    \"\"\"\n",
    "    expr = round(n**.5)**2 == n\n",
    "    return expr\n",
    "\n",
    "\n",
    "def is_prime(n):\n",
    "    \"\"\"Validates if the number is a prime.\n",
    "\n",
    "    Args:\n",
    "        n (int): The number\n",
    "\n",
    "    Returns:\n",
    "        bool: Is prime / is not prime\n",
    "    \"\"\"\n",
    "    if (n <= 1):\n",
    "        return False\n",
    "\n",
    "    for d in range(2, round(n**0.5) + 1):\n",
    "        if n % d == 0:\n",
    "            return False\n",
    "\n",
    "    return True\n",
    "\n",
    "\n",
    "def ways(n):\n",
    "    \"\"\"Represents a sum in two perfect squares in tuple.\n",
    "\n",
    "    Args:\n",
    "        n (int): The required square\n",
    "\n",
    "    Returns:\n",
    "        tuple: List of squares\n",
    "    \"\"\"\n",
    "\n",
    "    rep = []\n",
    "    if is_square(n):\n",
    "        max_x = round((n / 2)**0.5)\n",
    "    else:\n",
    "        max_x = int((n / 2)**0.5)\n",
    "\n",
    "    for x in range(0, max_x + 1):\n",
    "        y_sq = n - x**2\n",
    "\n",
    "        if is_square(y_sq):\n",
    "            y = round(y_sq**0.5)\n",
    "            rep.append((x, y))\n",
    "\n",
    "    return rep\n",
    "\n",
    "\n",
    "# The required condition\n",
    "for k in range(2019, 2029 + 1):\n",
    "    if k % 4 == 1 and is_prime(k):\n",
    "        print(ways(k))\n"
   ]
  },
  {
   "attachments": {},
   "cell_type": "markdown",
   "metadata": {},
   "source": [
    "**Exercise 10.** Let $w(n)$ be the number of ways $N$ can be expressed as a sum\n",
    "of two squares $ x^2 + y^2 = N $ with $ i \\leq x \\leq y $. Then,\n",
    "\n",
    "$$ \\lim_{N \\to \\infty} {\\frac{1}{N} \\sum_{n=1}^N w(n) = \\frac{\\pi}{8}} $$\n",
    "\n",
    "Compute the left side of the formula for $N = 100$ and compare the result to $\\pi/8$.\n"
   ]
  },
  {
   "cell_type": "code",
   "execution_count": 33,
   "metadata": {},
   "outputs": [
    {
     "name": "stdout",
     "output_type": "stream",
     "text": [
      "0.4015\n"
     ]
    }
   ],
   "source": [
    "def ways(n):\n",
    "    \"\"\"Represents a sum in two perfect squares in tuple.\n",
    "\n",
    "    Args:\n",
    "        n (int): The required square\n",
    "\n",
    "    Returns:\n",
    "        tuple: List of squares\n",
    "    \"\"\"\n",
    "\n",
    "    rep = []\n",
    "    if is_square(n):\n",
    "        max_x = round((n / 2)**0.5)\n",
    "    else:\n",
    "        max_x = int((n / 2)**0.5)\n",
    "\n",
    "    for x in range(0, max_x + 1):\n",
    "        y_sq = n - x**2\n",
    "\n",
    "        if is_square(y_sq):\n",
    "            y = round(y_sq**0.5)\n",
    "            rep.append((x, y))\n",
    "\n",
    "    return len(rep)\n",
    "\n",
    "\n",
    "N = 10000\n",
    "limit = [ways(k) for k in range(1, N + 1)]\n",
    "summation = 1/N * sum(limit)\n",
    "\n",
    "print(summation)\n"
   ]
  }
 ],
 "metadata": {
  "kernelspec": {
   "display_name": "Python 3",
   "language": "python",
   "name": "python3"
  },
  "language_info": {
   "codemirror_mode": {
    "name": "ipython",
    "version": 3
   },
   "file_extension": ".py",
   "mimetype": "text/x-python",
   "name": "python",
   "nbconvert_exporter": "python",
   "pygments_lexer": "ipython3",
   "version": "3.10.6"
  },
  "orig_nbformat": 4,
  "vscode": {
   "interpreter": {
    "hash": "916dbcbb3f70747c44a77c7bcd40155683ae19c65e1c03b4aa3499c5328201f1"
   }
  }
 },
 "nbformat": 4,
 "nbformat_minor": 2
}
