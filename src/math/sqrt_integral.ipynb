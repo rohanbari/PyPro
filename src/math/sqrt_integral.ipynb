{
 "cells": [
  {
   "attachments": {},
   "cell_type": "markdown",
   "metadata": {},
   "source": [
    "# Riemann sum of a sqrt-based function\n",
    "\n",
    "To write a function called `sqrt_integral` which takes input parameters `u`,\n",
    "`p`, and `N` and returns the Riemann sum using the midpoints $x_k^*$ of a\n",
    "partition of size $\\mathcal{N}$.\n",
    "\n",
    "The required integral may be expressed as:\n",
    "\n",
    "$$ \\int_0^u \\frac{1}{\\sqrt{1 + x^p}} dx \\approx \\sum_{k=1}^N {\\frac{1}{\\sqrt{1 +\n",
    "(x_k^*)^p}} \\Delta x} $$\n",
    "\n",
    "where $ \\Delta x = \\frac{u}{N} $ and $ x_k^* = \\frac{x_k + x_{k - 1}}{2} $ for\n",
    "endpoints $ x_k = k \\Delta x $"
   ]
  },
  {
   "cell_type": "code",
   "execution_count": 3,
   "metadata": {},
   "outputs": [
    {
     "name": "stdout",
     "output_type": "stream",
     "text": [
      "0.8813735871668598\n"
     ]
    }
   ],
   "source": [
    "def sqrt_integral(N, upper, p):\n",
    "    \"\"\"Evaluates the integral of 1/sqrt(1 + x^p) from 0 to u.\n",
    "\n",
    "    Args:\n",
    "        N (int): Number of iterations\n",
    "        upper (int/float): Upper limit\n",
    "        p (int/float): Power\n",
    "    \"\"\"\n",
    "    dx = upper / N\n",
    "    term = [dx / (1 + ((2*k - 1)*dx / 2)**p)**0.5 for k in range(1, N + 1)]\n",
    "    summation = sum(term)\n",
    "    return summation\n",
    "\n",
    "\n",
    "print(sqrt_integral(10000, 1, 2))\n"
   ]
  }
 ],
 "metadata": {
  "kernelspec": {
   "display_name": "Python 3",
   "language": "python",
   "name": "python3"
  },
  "language_info": {
   "codemirror_mode": {
    "name": "ipython",
    "version": 3
   },
   "file_extension": ".py",
   "mimetype": "text/x-python",
   "name": "python",
   "nbconvert_exporter": "python",
   "pygments_lexer": "ipython3",
   "version": "3.10.6"
  },
  "orig_nbformat": 4
 },
 "nbformat": 4,
 "nbformat_minor": 2
}
