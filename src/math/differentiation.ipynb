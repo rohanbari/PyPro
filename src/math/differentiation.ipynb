{
 "cells": [
  {
   "cell_type": "markdown",
   "metadata": {},
   "source": [
    "# Differentiation\n",
    "\n",
    "The derivative (or, differentiation) of a function $f(x)$ at $a$ is:\n",
    "\n",
    "$$ f'(a) = \\lim_{h \\to 0} \\frac{f(a+h) - f(a)}{h} $$\n"
   ]
  },
  {
   "cell_type": "code",
   "execution_count": 4,
   "metadata": {},
   "outputs": [
    {
     "name": "stdout",
     "output_type": "stream",
     "text": [
      "6.000000000012663e-08\n"
     ]
    }
   ],
   "source": [
    "def derivative(f, a, type='central', h=0.01):\n",
    "    \"\"\"Evaluates an approximation of derivative of the passed function.\n",
    "\n",
    "    Args:\n",
    "        f (function): The function\n",
    "        a (value): The value of x at f'(x)\n",
    "        type (str, optional): central/left/right\n",
    "        h (float, optional): Step size of the slope\n",
    "\n",
    "    Raises:\n",
    "        ValueError: Invalid parameter data\n",
    "\n",
    "    Returns:\n",
    "        _type_: Derivative\n",
    "    \"\"\"\n",
    "    if type == 'central':\n",
    "        return (f(a + h) - f(a - h)) / 2*h\n",
    "    elif type == 'left':\n",
    "        return (f(a) - f(a - h)) / h\n",
    "    elif type == 'right':\n",
    "        return (f(a + h) - f(a)) / h\n",
    "    else:\n",
    "        raise ValueError(\"Method must be central/left/right\")\n",
    "\n",
    "\n",
    "def fun(x): return x**2 - 1\n",
    "\n",
    "\n",
    "print(derivative(fun, 3, h=0.0001))\n"
   ]
  },
  {
   "cell_type": "markdown",
   "metadata": {},
   "source": [
    "### scipy.misc.derivative\n",
    "\n",
    "It's high time to play with `scipy` library!"
   ]
  },
  {
   "cell_type": "code",
   "execution_count": 9,
   "metadata": {},
   "outputs": [
    {
     "name": "stdout",
     "output_type": "stream",
     "text": [
      "[1.00003401 0.99993198 0.99977894 0.9995239  0.99916688 0.99870791\n",
      " 0.99814704 0.99748433 0.99671985 0.99585368 0.9948859  0.99381661\n",
      " 0.99264592 0.99137395 0.99000084 0.98852671 0.98695173 0.98527604\n",
      " 0.98349983 0.98162328 0.97964657 0.9775699  0.9753935  0.97311757\n",
      " 0.97074236 0.96826811 0.96569506 0.96302349 0.96025365 0.95738585\n",
      " 0.95442036 0.95135749 0.94819756 0.94494088 0.94158779 0.93813863\n",
      " 0.93459375 0.93095351 0.9272183  0.92338847 0.91946444 0.91544659\n",
      " 0.91133534 0.9071311  0.90283432 0.89844541 0.89396484 0.88939306\n",
      " 0.88473053 0.87997774 0.87513516 0.87020329 0.86518263 0.8600737\n",
      " 0.85487702 0.84959312 0.84422253 0.8387658  0.8332235  0.82759618\n",
      " 0.82188443 0.81608881 0.81020994 0.80424839 0.79820479 0.79207975\n",
      " 0.7858739  0.77958786 0.77322228 0.76677781 0.7602551  0.75365483\n",
      " 0.74697766 0.74022428 0.73339537 0.72649164 0.71951378 0.71246251\n",
      " 0.70533855 0.69814262 0.69087546 0.68353781 0.67613042 0.66865405\n",
      " 0.66110945 0.6534974  0.64581867 0.63807405 0.63026433 0.62239031\n",
      " 0.61445278 0.60645256 0.59839046 0.59026731 0.58208393 0.57384117\n",
      " 0.56553985 0.55718084 0.54876497 0.5403209 ]\n"
     ]
    }
   ],
   "source": [
    "from findiff import FinDiff\n",
    "import numpy as np\n",
    "\n",
    "x = np.linspace(0, 1, 100)\n",
    "f = np.sin(x)  # as an example\n",
    "\n",
    "# Define the derivative:\n",
    "d_dx = FinDiff(0, x, 1)\n",
    "\n",
    "# Apply it:\n",
    "df_dx = d_dx(f)\n",
    "\n",
    "print(df_dx)"
   ]
  }
 ],
 "metadata": {
  "kernelspec": {
   "display_name": "Python 3 (ipykernel)",
   "language": "python",
   "name": "python3"
  },
  "language_info": {
   "codemirror_mode": {
    "name": "ipython",
    "version": 3
   },
   "file_extension": ".py",
   "mimetype": "text/x-python",
   "name": "python",
   "nbconvert_exporter": "python",
   "pygments_lexer": "ipython3",
   "version": "3.10.6"
  },
  "vscode": {
   "interpreter": {
    "hash": "916dbcbb3f70747c44a77c7bcd40155683ae19c65e1c03b4aa3499c5328201f1"
   }
  }
 },
 "nbformat": 4,
 "nbformat_minor": 2
}
