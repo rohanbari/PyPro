{
 "cells": [
  {
   "attachments": {},
   "cell_type": "markdown",
   "metadata": {},
   "source": [
    "# Differentiation\n",
    "\n",
    "The derivative (or, differentiation) of a function $f(x)$ at $a$ is:\n",
    "\n",
    "$$ f'(a) = \\lim\\_{h \\to 0} \\frac{f(a+h) - f(a)}{h} $$\n"
   ]
  },
  {
   "cell_type": "code",
   "execution_count": 4,
   "metadata": {},
   "outputs": [
    {
     "name": "stdout",
     "output_type": "stream",
     "text": [
      "6.000000000012663e-08\n"
     ]
    }
   ],
   "source": [
    "def derivative(f, a, type='central', h=0.01):\n",
    "    \"\"\"Evaluates an approximation of derivative of the passed function.\n",
    "\n",
    "    Args:\n",
    "        f (function): The function\n",
    "        a (value): The value of x at f'(x)\n",
    "        type (str, optional): central/left/right\n",
    "        h (float, optional): Step size of the slope\n",
    "\n",
    "    Raises:\n",
    "        ValueError: Invalid parameter data\n",
    "\n",
    "    Returns:\n",
    "        _type_: Derivative\n",
    "    \"\"\"\n",
    "    if type == 'central':\n",
    "        return (f(a + h) - f(a - h)) / 2*h\n",
    "    elif type == 'left':\n",
    "        return (f(a) - f(a - h)) / h\n",
    "    elif type == 'right':\n",
    "        return (f(a + h) - f(a)) / h\n",
    "    else:\n",
    "        raise ValueError(\"Method must be central/left/right\")\n",
    "\n",
    "\n",
    "def fun(x): return x**2 - 1\n",
    "\n",
    "\n",
    "print(derivative(fun, 3, h=0.0001))\n"
   ]
  }
 ],
 "metadata": {
  "kernelspec": {
   "display_name": "Python 3",
   "language": "python",
   "name": "python3"
  },
  "language_info": {
   "codemirror_mode": {
    "name": "ipython",
    "version": 3
   },
   "file_extension": ".py",
   "mimetype": "text/x-python",
   "name": "python",
   "nbconvert_exporter": "python",
   "pygments_lexer": "ipython3",
   "version": "3.10.6"
  },
  "orig_nbformat": 4,
  "vscode": {
   "interpreter": {
    "hash": "916dbcbb3f70747c44a77c7bcd40155683ae19c65e1c03b4aa3499c5328201f1"
   }
  }
 },
 "nbformat": 4,
 "nbformat_minor": 2
}
