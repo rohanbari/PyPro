{
 "cells": [
  {
   "cell_type": "code",
   "execution_count": 12,
   "metadata": {},
   "outputs": [
    {
     "name": "stdout",
     "output_type": "stream",
     "text": [
      "1.3247179572447458\n"
     ]
    }
   ],
   "source": [
    "# The Bissection Method for solving Nth degree polynomial\n",
    "\n",
    "def bissection(fun, a, b, N):\n",
    "    \"\"\"The bissection method. Approximates solution for equations.\n",
    "\n",
    "    Args:\n",
    "        fun (lambda): The mathematical equation with RHS 0\n",
    "        a (float): Beginning interval\n",
    "        b (float): Ending interval\n",
    "        N (int): Number of iterations\n",
    "\n",
    "    Returns:\n",
    "        float: Approximate/exact solution\n",
    "    \"\"\"\n",
    "    # f(a)f(b) must be a negative value\n",
    "    if fun(a)*fun(b) >= 0:\n",
    "        print('Bissection method will not work.')\n",
    "        return None\n",
    "\n",
    "    # Initial values\n",
    "    a_n = a\n",
    "    b_n = b\n",
    "\n",
    "    for n in range(1, N + 1):\n",
    "        m_n = (a_n + b_n)/2\n",
    "        fun_m_n = fun(m_n)\n",
    "\n",
    "        if fun(a_n)*fun_m_n < 0:\n",
    "            a_n = a_n\n",
    "            b_n = m_n\n",
    "        elif fun(b_n)*fun_m_n < 0:\n",
    "            a_n = m_n\n",
    "            b_n = b_n\n",
    "        elif fun_m_n == 0:\n",
    "            print('Found accurate results!')\n",
    "            return m_n\n",
    "        else:\n",
    "            print('Bissection failed!')\n",
    "            return None\n",
    "\n",
    "    return (a_n + b_n)/2\n",
    "\n",
    "\n",
    "def func(x): return x**3 - x - 1\n",
    "\n",
    "\n",
    "approx = bissection(func, 1, 2, 1000)\n",
    "print(approx)\n"
   ]
  }
 ],
 "metadata": {
  "kernelspec": {
   "display_name": "Python 3",
   "language": "python",
   "name": "python3"
  },
  "language_info": {
   "codemirror_mode": {
    "name": "ipython",
    "version": 3
   },
   "file_extension": ".py",
   "mimetype": "text/x-python",
   "name": "python",
   "nbconvert_exporter": "python",
   "pygments_lexer": "ipython3",
   "version": "3.10.6"
  },
  "orig_nbformat": 4,
  "vscode": {
   "interpreter": {
    "hash": "916dbcbb3f70747c44a77c7bcd40155683ae19c65e1c03b4aa3499c5328201f1"
   }
  }
 },
 "nbformat": 4,
 "nbformat_minor": 2
}
