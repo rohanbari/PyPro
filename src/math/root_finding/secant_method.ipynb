{
 "cells": [
  {
   "attachments": {},
   "cell_type": "markdown",
   "metadata": {},
   "source": [
    "# Secant Method of Finding Roots\n",
    "\n",
    "Well, I don't know very much about this method. Yet it works.\n"
   ]
  },
  {
   "cell_type": "code",
   "execution_count": 1,
   "metadata": {},
   "outputs": [
    {
     "name": "stdout",
     "output_type": "stream",
     "text": [
      "-1\n",
      "3\n",
      "17\n",
      "1.4655712299066983\n"
     ]
    }
   ],
   "source": [
    "# Practical implementation of the Secant Method\n",
    "\n",
    "def secant_method(func, a, b, N):\n",
    "    if func(a) * func(b) >= 0:\n",
    "        print('The secant method fails right away.')\n",
    "        return None\n",
    "\n",
    "    a_n = a\n",
    "    b_n = b\n",
    "\n",
    "    for n in range(1, N+1):\n",
    "        global x_n\n",
    "        x_n = a_n - func(a_n)*(b_n - a_n) / (func(b_n) - func(a_n))\n",
    "        f_x_n = func(x_n)\n",
    "\n",
    "        if func(a_n)*func(f_x_n) < 0:\n",
    "            a_n = a_n\n",
    "            b_n = x_n\n",
    "        elif func(f_x_n)*func(b_n) < 0:\n",
    "            a_n = x_n\n",
    "            b_n = b_n\n",
    "        elif f_x_n == 0:\n",
    "            print('Found exact solution!')\n",
    "        else:\n",
    "            print('Secant method fails.')\n",
    "            return None\n",
    "\n",
    "    return x_n\n",
    "\n",
    "\n",
    "def f(x): return x**3 - x**2 - 1\n",
    "\n",
    "\n",
    "print(f(1))\n",
    "print(f(2))\n",
    "print(f(3))\n",
    "\n",
    "secant = secant_method(f, 1, 2, 20)\n",
    "print(secant)\n"
   ]
  }
 ],
 "metadata": {
  "kernelspec": {
   "display_name": "Python 3",
   "language": "python",
   "name": "python3"
  },
  "language_info": {
   "codemirror_mode": {
    "name": "ipython",
    "version": 3
   },
   "file_extension": ".py",
   "mimetype": "text/x-python",
   "name": "python",
   "nbconvert_exporter": "python",
   "pygments_lexer": "ipython3",
   "version": "3.10.6"
  },
  "orig_nbformat": 4,
  "vscode": {
   "interpreter": {
    "hash": "916dbcbb3f70747c44a77c7bcd40155683ae19c65e1c03b4aa3499c5328201f1"
   }
  }
 },
 "nbformat": 4,
 "nbformat_minor": 2
}
