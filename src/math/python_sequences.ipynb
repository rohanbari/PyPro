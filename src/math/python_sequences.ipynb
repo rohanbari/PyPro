{
 "cells": [
  {
   "attachments": {},
   "cell_type": "markdown",
   "metadata": {},
   "source": [
    "# Sequences\n",
    "\n",
    "If there is a common difference/factor between each consecutive term, then it is\n",
    "a mathematical sequence. There are mainly three types of sequences in Python:\n",
    "\n",
    "  * `list`: mutable, same type only\n",
    "  * `tuple`: immutable, different types\n",
    "  * `range`: sequence of integers"
   ]
  },
  {
   "cell_type": "code",
   "execution_count": 12,
   "metadata": {},
   "outputs": [
    {
     "name": "stdout",
     "output_type": "stream",
     "text": [
      "[1, 4, 9, 16, 25, 36, 49, 64, 81, 100]\n",
      "[[0, 0], [3, 4], [1, 9], [4, 4]]\n",
      "7 13 29\n",
      "19 13 3\n",
      "3\n"
     ]
    }
   ],
   "source": [
    "# A list of squares of numbers from 1 to 10\n",
    "\n",
    "squares_list = [1, 4, 9, 16, 25, 36, 49, 64, 81, 100]\n",
    "print(squares_list)\n",
    "\n",
    "# Sub-lists\n",
    "coords = [[0, 0], [3, 4], [1, 9], [4, 4]]\n",
    "print(coords)\n",
    "\n",
    "primes = [2, 3, 5, 7, 11, 13, 17, 19, 23, 29]\n",
    "# Forward\n",
    "print(primes[3], primes[5], primes[9])\n",
    "# Reverse\n",
    "print(primes[-3], primes[-5], primes[-9])\n",
    "\n",
    "pairs = [[0, 1], [2, 3], [4, 5], [6, 7]]\n",
    "print(pairs[1][1]) # 2nd element, 2nd sub-element\n"
   ]
  }
 ],
 "metadata": {
  "kernelspec": {
   "display_name": "Python 3",
   "language": "python",
   "name": "python3"
  },
  "language_info": {
   "codemirror_mode": {
    "name": "ipython",
    "version": 3
   },
   "file_extension": ".py",
   "mimetype": "text/x-python",
   "name": "python",
   "nbconvert_exporter": "python",
   "pygments_lexer": "ipython3",
   "version": "3.10.6"
  },
  "orig_nbformat": 4
 },
 "nbformat": 4,
 "nbformat_minor": 2
}
