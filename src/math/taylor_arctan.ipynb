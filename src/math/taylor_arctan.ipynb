{
 "cells": [
  {
   "attachments": {},
   "cell_type": "markdown",
   "metadata": {},
   "source": [
    "# Taylor expansion for $\\arctan{x}$\n",
    "\n",
    "Taylor series expansion for $\\arctan{x}$ is represented by:\n",
    "\n",
    "$$ \\arctan{x} = \\sum_0^{N} {(-1)^k \\frac{x^{2k + 1}}{2k + 1}} $$"
   ]
  },
  {
   "cell_type": "code",
   "execution_count": null,
   "metadata": {},
   "outputs": [],
   "source": [
    "def taylor_arctan(x, N):\n",
    "    \"\"\"Evaluates the Taylor expansion for f(x) = arctan(x).\n",
    "\n",
    "    Args:\n",
    "        k (float): Value of the power\n",
    "        N (int): Polynomial degree\n",
    "    \"\"\"\n",
    "\n",
    "    terms = [(-1)**k * (x**(2 * k + 1)) / (2 * k + 1) for k in range(0, N + 1)]\n",
    "\n",
    "    summation = sum(terms)\n",
    "    return summation\n",
    "\n",
    "\n",
    "arctan_Pi4 = taylor_arctan(1, 100000)\n",
    "print(arctan_Pi4)"
   ]
  }
 ],
 "metadata": {
  "kernelspec": {
   "display_name": "Python 3",
   "language": "python",
   "name": "python3"
  },
  "language_info": {
   "codemirror_mode": {
    "name": "ipython",
    "version": 3
   },
   "file_extension": ".py",
   "mimetype": "text/x-python",
   "name": "python",
   "nbconvert_exporter": "python",
   "pygments_lexer": "ipython3",
   "version": "3.10.6"
  },
  "orig_nbformat": 4
 },
 "nbformat": 4,
 "nbformat_minor": 2
}
