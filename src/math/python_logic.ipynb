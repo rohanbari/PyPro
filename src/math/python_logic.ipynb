{
 "cells": [
  {
   "attachments": {},
   "cell_type": "markdown",
   "metadata": {},
   "source": [
    "# Logic in Python\n",
    "\n",
    "In my words, a logic is a systematic approach to determine a valid output.\n",
    "A condition is either true or false, but not both simultaneously. This is where\n",
    "Boolean type comes into play."
   ]
  },
  {
   "cell_type": "code",
   "execution_count": 6,
   "metadata": {},
   "outputs": [
    {
     "name": "stdout",
     "output_type": "stream",
     "text": [
      "False True\n",
      "I did not bath OR I am not hungry\n"
     ]
    }
   ],
   "source": [
    "did_I_bath = False\n",
    "am_I_hungry = True\n",
    "print(did_I_bath, am_I_hungry)\n",
    "\n",
    "if (did_I_bath) and (am_I_hungry):\n",
    "    print(\"I did bathe and I'm hungry\")\n",
    "else:\n",
    "    print(\"I did not bath OR I am not hungry\")\n"
   ]
  },
  {
   "cell_type": "code",
   "execution_count": 7,
   "metadata": {},
   "outputs": [
    {
     "name": "stdout",
     "output_type": "stream",
     "text": [
      "imaginary\n"
     ]
    }
   ],
   "source": [
    "# Real or imaginary?\n",
    "\n",
    "def discriminant(a, b, c):\n",
    "    \"\"\"Checks if the roots of the equation are real or complex.\n",
    "\n",
    "    Args:\n",
    "        a (int/float): First value\n",
    "        b (int/float): Second value\n",
    "        c (int/float): Third value\n",
    "    \"\"\"\n",
    "    disc = b**2 - 4*a*c\n",
    "\n",
    "    if (disc > 0):\n",
    "        return \"real and unequal\"\n",
    "    elif (disc < 0):\n",
    "        return \"imaginary\"\n",
    "    else:\n",
    "        return \"real and equal\"\n",
    "\n",
    "\n",
    "a = 10\n",
    "b = 20\n",
    "c = 30\n",
    "print(discriminant(a, b, c))\n"
   ]
  }
 ],
 "metadata": {
  "kernelspec": {
   "display_name": "Python 3",
   "language": "python",
   "name": "python3"
  },
  "language_info": {
   "codemirror_mode": {
    "name": "ipython",
    "version": 3
   },
   "file_extension": ".py",
   "mimetype": "text/x-python",
   "name": "python",
   "nbconvert_exporter": "python",
   "pygments_lexer": "ipython3",
   "version": "3.10.6"
  },
  "orig_nbformat": 4
 },
 "nbformat": 4,
 "nbformat_minor": 2
}
