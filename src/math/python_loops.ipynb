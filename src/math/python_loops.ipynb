{
 "cells": [
  {
   "attachments": {},
   "cell_type": "markdown",
   "metadata": {},
   "source": [
    "# Loops\n",
    "\n",
    "When an activity has to be executed time and again until a predefined condition\n",
    "is met, it is called a loop. It is extensively used in programming, and helps\n",
    "us to write efficient and short code.\n",
    "\n",
    "There are broadly two types of loops: `for` and `while`.\n",
    "\n",
    "### Examples on `for` Loops"
   ]
  },
  {
   "cell_type": "code",
   "execution_count": null,
   "metadata": {},
   "outputs": [],
   "source": [
    "# Program: Display the items of a list\n",
    "\n",
    "my_list = [1, 2, 3, 4, 5]\n",
    "\n",
    "for item in my_list:\n",
    "    print(item)\n"
   ]
  },
  {
   "cell_type": "code",
   "execution_count": null,
   "metadata": {},
   "outputs": [],
   "source": [
    "# Program: Display the squares of the numbers given in a list\n",
    "\n",
    "my_list = [1, 3, 5, 7, 9]\n",
    "\n",
    "for item in my_list:\n",
    "    print(str(item) + ' squared: ' + str(item**2))\n"
   ]
  },
  {
   "cell_type": "code",
   "execution_count": null,
   "metadata": {},
   "outputs": [],
   "source": [
    "# Program: Use a while loop to print numbers in reverse order\n",
    "\n",
    "numbers = 10\n",
    "\n",
    "while numbers > 0:\n",
    "    print(numbers)\n",
    "    numbers -= 1\n"
   ]
  },
  {
   "cell_type": "code",
   "execution_count": 10,
   "metadata": {},
   "outputs": [
    {
     "name": "stdout",
     "output_type": "stream",
     "text": [
      "Using list comp.: [1, 4, 9, 16, 25, 36, 49, 64, 81, 100]\n",
      "Using loops: [1, 4, 9, 16, 25, 36, 49, 64, 81, 100]\n"
     ]
    }
   ],
   "source": [
    "# Construction of sequences using loops\n",
    "\n",
    "# Method of list comprehension\n",
    "squares_to_10 = [k**2 for k in range(1, 10 + 1)]\n",
    "print('Using list comp.: ' + str(squares_to_10))\n",
    "\n",
    "# Alternatively, by using loops...\n",
    "squares_to_10 = []\n",
    "\n",
    "for d in range(1, 10 + 1):\n",
    "    # Appends to the list\n",
    "    squares_to_10.append(d**2)\n",
    "\n",
    "print('Using loops: ' + str(squares_to_10))\n"
   ]
  },
  {
   "cell_type": "code",
   "execution_count": 11,
   "metadata": {},
   "outputs": [
    {
     "name": "stdout",
     "output_type": "stream",
     "text": [
      "Fibonacci series: [1, 1, 2, 3, 5, 8, 13, 21, 34, 55, 89]\n"
     ]
    }
   ],
   "source": [
    "# Fibonacci Series using loops\n",
    "\n",
    "series = [1, 1]\n",
    "\n",
    "for k in range(2, 10 + 1):\n",
    "    term = series[k - 1] + series[k - 2]\n",
    "    series.append(term)\n",
    "\n",
    "print('Fibonacci series: ' + str(series))\n"
   ]
  },
  {
   "cell_type": "code",
   "execution_count": 12,
   "metadata": {},
   "outputs": [
    {
     "name": "stdout",
     "output_type": "stream",
     "text": [
      "385\n"
     ]
    }
   ],
   "source": [
    "# Computing sums based on formulae\n",
    "\n",
    "def sum_of_squares(n):\n",
    "    terms = [k**2 for k in range(1, n + 1)]\n",
    "    return sum(terms)\n",
    "\n",
    "\n",
    "print(sum_of_squares(10))\n"
   ]
  },
  {
   "cell_type": "code",
   "execution_count": 14,
   "metadata": {},
   "outputs": [
    {
     "name": "stdout",
     "output_type": "stream",
     "text": [
      "Factorial of 5: 120\n"
     ]
    }
   ],
   "source": [
    "# Computing products (there are no built-in functions to do so!)\n",
    "\n",
    "def factorial(n):\n",
    "    prod = 1\n",
    "\n",
    "    while n > 0:\n",
    "        prod *= n\n",
    "        n -= 1\n",
    "\n",
    "    return prod\n",
    "\n",
    "\n",
    "print('Factorial of 5: ' + str(factorial(5)))\n"
   ]
  },
  {
   "cell_type": "code",
   "execution_count": 15,
   "metadata": {},
   "outputs": [
    {
     "name": "stdout",
     "output_type": "stream",
     "text": [
      "2.7182818284590455\n"
     ]
    }
   ],
   "source": [
    "# Approximation of Euler's constant using Taylor's expansionn\n",
    "\n",
    "series = [1 / (factorial(k)) for k in range(0, 1000 + 1)]\n",
    "summation = sum(series)\n",
    "\n",
    "print (summation)"
   ]
  },
  {
   "cell_type": "code",
   "execution_count": 16,
   "metadata": {},
   "outputs": [
    {
     "name": "stdout",
     "output_type": "stream",
     "text": [
      "True\n",
      "False\n"
     ]
    }
   ],
   "source": [
    "# The Sum of Two Squares problem\n",
    "\n",
    "def is_square(n):\n",
    "    \"\"\"Evaluates if the passed argument was a perfect square.\n",
    "\n",
    "    Args:\n",
    "        n (int): Number to be tested\n",
    "\n",
    "    Returns:\n",
    "        bool: If true, then a perfect square; false otherwise\n",
    "    \"\"\"\n",
    "    expr = round(n**.5)**2 == n\n",
    "    return expr\n"
   ]
  }
 ],
 "metadata": {
  "kernelspec": {
   "display_name": "Python 3",
   "language": "python",
   "name": "python3"
  },
  "language_info": {
   "codemirror_mode": {
    "name": "ipython",
    "version": 3
   },
   "file_extension": ".py",
   "mimetype": "text/x-python",
   "name": "python",
   "nbconvert_exporter": "python",
   "pygments_lexer": "ipython3",
   "version": "3.10.6"
  },
  "orig_nbformat": 4
 },
 "nbformat": 4,
 "nbformat_minor": 2
}
