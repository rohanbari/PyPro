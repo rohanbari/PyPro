{
 "cells": [
  {
   "attachments": {},
   "cell_type": "markdown",
   "metadata": {},
   "source": [
    "# Loops\n",
    "\n",
    "When an activity has to be executed time and again until a predefined condition\n",
    "is met, it is called a loop. It is extensively used in programming, and helps\n",
    "us to write efficient and short code.\n",
    "\n",
    "There are broadly two types of loops: `for` and `while`.\n",
    "\n",
    "### Examples on `for` Loops\n"
   ]
  },
  {
   "cell_type": "code",
   "execution_count": null,
   "metadata": {},
   "outputs": [],
   "source": [
    "# Program: Display the items of a list\n",
    "\n",
    "my_list = [1, 2, 3, 4, 5]\n",
    "\n",
    "for item in my_list:\n",
    "    print(item)\n"
   ]
  },
  {
   "cell_type": "code",
   "execution_count": null,
   "metadata": {},
   "outputs": [],
   "source": [
    "# Program: Display the squares of the numbers given in a list\n",
    "\n",
    "my_list = [1, 3, 5, 7, 9]\n",
    "\n",
    "for item in my_list:\n",
    "    print(str(item) + ' squared: ' + str(item**2))\n"
   ]
  },
  {
   "cell_type": "code",
   "execution_count": null,
   "metadata": {},
   "outputs": [],
   "source": [
    "# Program: Use a while loop to print numbers in reverse order\n",
    "\n",
    "numbers = 10\n",
    "\n",
    "while numbers > 0:\n",
    "    print(numbers)\n",
    "    numbers -= 1\n"
   ]
  },
  {
   "cell_type": "code",
   "execution_count": null,
   "metadata": {},
   "outputs": [],
   "source": [
    "# Construction of sequences using loops\n",
    "\n",
    "# Method of list comprehension\n",
    "squares_to_10 = [k**2 for k in range(1, 10 + 1)]\n",
    "print('Using list comp.: ' + str(squares_to_10))\n",
    "\n",
    "# Alternatively, by using loops...\n",
    "squares_to_10 = []\n",
    "\n",
    "for d in range(1, 10 + 1):\n",
    "    # Appends to the list\n",
    "    squares_to_10.append(d**2)\n",
    "\n",
    "print('Using loops: ' + str(squares_to_10))\n"
   ]
  },
  {
   "cell_type": "code",
   "execution_count": null,
   "metadata": {},
   "outputs": [],
   "source": [
    "# Fibonacci Series using loops\n",
    "\n",
    "series = [1, 1]\n",
    "\n",
    "for k in range(2, 10 + 1):\n",
    "    term = series[k - 1] + series[k - 2]\n",
    "    series.append(term)\n",
    "\n",
    "print('Fibonacci series: ' + str(series))\n"
   ]
  },
  {
   "cell_type": "code",
   "execution_count": null,
   "metadata": {},
   "outputs": [],
   "source": [
    "# Computing sums based on formulae\n",
    "\n",
    "def sum_of_squares(n):\n",
    "    terms = [k**2 for k in range(1, n + 1)]\n",
    "    return sum(terms)\n",
    "\n",
    "\n",
    "print(sum_of_squares(10))\n"
   ]
  },
  {
   "cell_type": "code",
   "execution_count": null,
   "metadata": {},
   "outputs": [],
   "source": [
    "# Computing products (there are no built-in functions to do so!)\n",
    "\n",
    "def factorial(n):\n",
    "    prod = 1\n",
    "\n",
    "    while n > 0:\n",
    "        prod *= n\n",
    "        n -= 1\n",
    "\n",
    "    return prod\n",
    "\n",
    "\n",
    "print('Factorial of 5: ' + str(factorial(5)))\n"
   ]
  },
  {
   "cell_type": "code",
   "execution_count": null,
   "metadata": {},
   "outputs": [],
   "source": [
    "# Approximation of Euler's constant using Taylor's expansionn\n",
    "\n",
    "series = [1 / (factorial(k)) for k in range(0, 1000 + 1)]\n",
    "summation = sum(series)\n",
    "\n",
    "print(summation)\n"
   ]
  },
  {
   "cell_type": "code",
   "execution_count": null,
   "metadata": {},
   "outputs": [],
   "source": [
    "# The Sum of Two Squares problem\n",
    "\n",
    "def is_square(n):\n",
    "    \"\"\"Evaluates if the passed argument was a perfect square.\n",
    "\n",
    "    Args:\n",
    "        n (int): Number to be tested\n",
    "\n",
    "    Returns:\n",
    "        bool: If true, then a perfect square; false otherwise\n",
    "    \"\"\"\n",
    "\n",
    "    expr = round(n**.5)**2 == n\n",
    "    return expr\n",
    "\n",
    "\n",
    "def rep_sum_squares(n):\n",
    "    \"\"\"Represents a sum in two perfect squares in tuple.\n",
    "\n",
    "    Args:\n",
    "        n (int): The required square\n",
    "\n",
    "    Returns:\n",
    "        tuple: List of squares\n",
    "    \"\"\"\n",
    "\n",
    "    rep = []\n",
    "    if is_square(n):\n",
    "        max_x = round((n / 2)**0.5)\n",
    "    else:\n",
    "        max_x = int((n / 2)**0.5)\n",
    "\n",
    "    for x in range(0, max_x + 1):\n",
    "        y_sq = n - x**2\n",
    "\n",
    "        if is_square(y_sq):\n",
    "            y = round(y_sq**0.5)\n",
    "            rep.append((x, y))\n",
    "\n",
    "    return rep\n",
    "\n",
    "\n",
    "print(rep_sum_squares(125))\n"
   ]
  },
  {
   "attachments": {},
   "cell_type": "markdown",
   "metadata": {},
   "source": [
    "### Examples\n",
    "\n",
    "1. Testing whether a number is a prime or not:\n"
   ]
  },
  {
   "cell_type": "code",
   "execution_count": null,
   "metadata": {},
   "outputs": [],
   "source": [
    "def is_prime(n):\n",
    "    # The number must be greater than 1.\n",
    "    if n <= 1:\n",
    "        return False\n",
    "\n",
    "    for d in range(2, round(n**0.5) + 1):\n",
    "        if n % d == 0:\n",
    "            return False\n",
    "\n",
    "    return True\n",
    "\n",
    "\n",
    "print(is_prime(1))\n",
    "print(is_prime(3))\n",
    "print(is_prime(4))\n",
    "print(is_prime(9))\n",
    "print(is_prime(13))\n"
   ]
  }
 ],
 "metadata": {
  "kernelspec": {
   "display_name": "Python 3",
   "language": "python",
   "name": "python3"
  },
  "language_info": {
   "codemirror_mode": {
    "name": "ipython",
    "version": 3
   },
   "file_extension": ".py",
   "mimetype": "text/x-python",
   "name": "python",
   "nbconvert_exporter": "python",
   "pygments_lexer": "ipython3",
   "version": "3.10.6"
  },
  "orig_nbformat": 4,
  "vscode": {
   "interpreter": {
    "hash": "916dbcbb3f70747c44a77c7bcd40155683ae19c65e1c03b4aa3499c5328201f1"
   }
  }
 },
 "nbformat": 4,
 "nbformat_minor": 2
}
